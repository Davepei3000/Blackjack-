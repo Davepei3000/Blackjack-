{
 "cells": [
  {
   "cell_type": "code",
   "execution_count": 1,
   "metadata": {},
   "outputs": [],
   "source": [
    "def instructions():\n",
    "    name = input(\"Hey there! What's your name??\")\n",
    "    print(f'Hey {name} so you already know how to play BlackJack right? Basically you try to add your hand up to 21 or as close as you can. \\nFace cards are worth 10, and numbers are worth their regular number. If you draw an Ace, you decide if you want it to count as a 1 or an 11')"
   ]
  },
  {
   "cell_type": "code",
   "execution_count": null,
   "metadata": {},
   "outputs": [],
   "source": [
    "instructions()"
   ]
  },
  {
   "cell_type": "code",
   "execution_count": 29,
   "metadata": {},
   "outputs": [
    {
     "ename": "SyntaxError",
     "evalue": "invalid syntax (<ipython-input-29-2bbbf924f6ea>, line 3)",
     "output_type": "error",
     "traceback": [
      "\u001b[1;36m  File \u001b[1;32m\"<ipython-input-29-2bbbf924f6ea>\"\u001b[1;36m, line \u001b[1;32m3\u001b[0m\n\u001b[1;33m    def __init__(self, player, balance)\u001b[0m\n\u001b[1;37m                                       ^\u001b[0m\n\u001b[1;31mSyntaxError\u001b[0m\u001b[1;31m:\u001b[0m invalid syntax\n"
     ]
    }
   ],
   "source": [
    "class Bankroll:\n",
    "    \n",
    "    def __init__(self, player, balance)"
   ]
  },
  {
   "cell_type": "code",
   "execution_count": 5,
   "metadata": {},
   "outputs": [],
   "source": [
    "def deal(deck):\n",
    "    \n",
    "    dealcardone = random.choice(deck)\n",
    "    deck.remove(dealcardone)\n",
    "    urcardone = random.choice(deck)\n",
    "    deck.remove(urcardone)\n",
    "    dealcardtwo = random.choice(deck)\n",
    "    deck.remove(dealcardtwo)\n",
    "    urcardtwo = random.choice(deck)\n",
    "    deck.remove(urcardtwo)\n",
    "    #return f\"Dealer's face-up card: {dealcardone} \\nYour cards are {urcardone} and {urcardtwo}\" WHY CANT YOU RETURN YOU HAVE TO PRINT TO RUN PLAY()??\n",
    "    print(f\"Dealer's face-up card: {dealcardone} \\nYour cards are {urcardone} and {urcardtwo}\")"
   ]
  },
  {
   "cell_type": "code",
   "execution_count": null,
   "metadata": {},
   "outputs": [],
   "source": []
  },
  {
   "cell_type": "code",
   "execution_count": 4,
   "metadata": {},
   "outputs": [],
   "source": [
    "def urmove(urcardone, urcardtwo, deck, urtotal, dealercardone, dealercardtwo, dealertotal, Bust):\n",
    "    \n",
    "    #urtotal = urcardone + urcardtwo\n",
    "    global ftotal\n",
    "    ftotal = urtotal\n",
    "    Bust = False\n",
    "    Jack = 10\n",
    "    Queen = 10\n",
    "    King = 10\n",
    "    Ace = 'Ace'\n",
    "    \n",
    "    while not Bust:\n",
    "    \n",
    "        move = input('Do you want to hit or stand?')\n",
    "\n",
    "        if move == 'hit':\n",
    "            urnextcard = random.choice(deck)\n",
    "            print(f'You just drew {urnextcard}')\n",
    "            deck.remove(urnextcard)\n",
    "            if urnextcard == Ace:\n",
    "                urnextcard = int(input('Do you want Ace to be 1 or 11?'))\n",
    "            ftotal = ftotal + urnextcard\n",
    "            print(f'Your new total is {ftotal}')\n",
    "        if ftotal > 21:\n",
    "            print('BUST! Dealer wins')\n",
    "            ftotal = ftotal + urnextcard\n",
    "            #return urtotal\n",
    "            Bust = True\n",
    "            playagain()\n",
    "            #break\n",
    "        if ftotal == 21:\n",
    "            print('You win! Your total is 21')\n",
    "            #balance = balance + bet\n",
    "            Bust = True\n",
    "            playagain()\n",
    "            #break\n",
    "        if move == 'stand':\n",
    "            Bust = True\n",
    "            #return urtotal\n",
    "            #break\n",
    "    if ftotal < 21:\n",
    "        print('CODE MADE IT HERE')\n",
    "        dealermove(dealercardone, dealercardtwo, dealertotal, ftotal, deck, Bust)\n",
    "  "
   ]
  },
  {
   "cell_type": "code",
   "execution_count": 3,
   "metadata": {},
   "outputs": [],
   "source": [
    "def dealermove(dealercardone, dealercardtwo, dealertotal, ftotal, deck, Bust):\n",
    "    \n",
    "    Ace = 11\n",
    "    #dealertotal = dealercardone + dealercardtwo\n",
    "    \n",
    "    while dealertotal < 17 and dealertotal < ftotal:\n",
    "        dealernextcard = random.choice(deck)\n",
    "        if dealernextcard == Ace:\n",
    "            dealernextcard = 11\n",
    "        dealertotal = dealertotal + dealernextcard\n",
    "        if dealertotal > 21 and (dealercardone == Ace or dealercardtwo == Ace or dealernextcard == Ace):\n",
    "            dealertotal = dealertotal - 10\n",
    "        print(f'dealer just drew {dealernextcard}, their total is {dealertotal}')\n",
    "\n",
    "    if dealertotal > 21:\n",
    "              print(f'You won! Dealer BUST \\nDealer had {dealertotal}')\n",
    "              Bust = True\n",
    "              playagain()\n",
    "    if dealertotal >= 17 and dealertotal <= 21 and dealertotal > ftotal:\n",
    "              print(f'Dealer wins! Dealer had {dealertotal}')\n",
    "              Bust = True\n",
    "              playagain()\n",
    "    if dealertotal >= 17 and dealertotal < 21 and dealertotal < ftotal:\n",
    "              print(f'You win! Dealer had {dealertotal}')\n",
    "              Bust = True\n",
    "              playagain()\n",
    "    if ftotal == dealertotal:\n",
    "              print('DRAW')\n",
    "              playagain()\n",
    "    print(f'first of all your actual total is {ftotal}')\n",
    "    #still have to say how much money everyone has\n",
    "              "
   ]
  },
  {
   "cell_type": "code",
   "execution_count": 2,
   "metadata": {},
   "outputs": [],
   "source": [
    "def playagain():\n",
    "    Choice = input('Do you want to play again?')\n",
    "    if Choice == 'yes' or 'Yes':\n",
    "        play()\n",
    "    if Choice == 'no' or 'No':\n",
    "        pass"
   ]
  },
  {
   "cell_type": "code",
   "execution_count": 1,
   "metadata": {},
   "outputs": [],
   "source": [
    "import random\n",
    "\n",
    "def play():\n",
    "    \n",
    "    Jack = 10\n",
    "    Queen = 10\n",
    "    King = 10\n",
    "    Ace = 'Ace'\n",
    "    \n",
    "    deck = [2,3,4,5,6,7,8,9,10,Jack, Queen, King, Ace]*4\n",
    "    print('*shuffles the deck')\n",
    "    dealercardone = random.choice(deck)\n",
    "    deck.remove(dealercardone)\n",
    "    urcardone = random.choice(deck)\n",
    "    deck.remove(urcardone)\n",
    "    dealercardtwo = random.choice(deck)\n",
    "    deck.remove(dealercardtwo)\n",
    "    urcardtwo = random.choice(deck)\n",
    "    deck.remove(urcardtwo)\n",
    "    print('*Deals both you and the dealer your hands')\n",
    "    print(f\"Dealer's face-up card: {dealercardone} \\nYour cards are {urcardone} and {urcardtwo}\")\n",
    "    \n",
    "    if urcardone == Ace:\n",
    "        urcardone = int(input('Do you want Ace to be 1 or 11?'))\n",
    "    if urcardtwo == Ace:\n",
    "        urcardtwo = int(input('Do you want Ace to be 1 or 11?'))\n",
    "    if urcardone+urcardtwo == 21:\n",
    "        print('Your total is 21, you won!')\n",
    "\n",
    "    if dealercardone == Ace:\n",
    "        dealercardone = 11\n",
    "    if dealercardtwo == Ace:\n",
    "        dealercardtwo = 11\n",
    "        \n",
    "    urtotal = urcardone + urcardtwo \n",
    "    dealertotal = dealercardone + dealercardtwo\n",
    "    \n",
    "    Over = False\n",
    "    Bust = False\n",
    "\n",
    "    #while not Bust:\n",
    "        #urbet()\n",
    "    if urcardone+urcardtwo != 21:\n",
    "        urmove(urcardone, urcardtwo, deck, urtotal, dealercardone, dealercardtwo, dealertotal, Bust)\n",
    "        print(f'Hey, your total is {ftotal}')\n",
    "        #if urtotal < 21 and Bust == False:\n",
    "            #dealermove(dealercardone, dealercardtwo, urtotal, deck, Bust)\n",
    "    if urtotal == 21:\n",
    "        print('Hey you just won!')\n",
    "        playagain()\n",
    "    if dealertotal == 21:\n",
    "        print('Dealer wins =(')\n",
    "        playagain()"
   ]
  }
 ],
 "metadata": {
  "kernelspec": {
   "display_name": "Python 3",
   "language": "python",
   "name": "python3"
  },
  "language_info": {
   "codemirror_mode": {
    "name": "ipython",
    "version": 3
   },
   "file_extension": ".py",
   "mimetype": "text/x-python",
   "name": "python",
   "nbconvert_exporter": "python",
   "pygments_lexer": "ipython3",
   "version": "3.6.5"
  }
 },
 "nbformat": 4,
 "nbformat_minor": 2
}
